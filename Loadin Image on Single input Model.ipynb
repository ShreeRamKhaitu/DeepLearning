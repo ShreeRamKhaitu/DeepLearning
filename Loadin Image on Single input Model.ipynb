{
 "cells": [
  {
   "cell_type": "code",
   "execution_count": null,
   "metadata": {},
   "outputs": [],
   "source": [
    "# import libraries"
   ]
  },
  {
   "cell_type": "code",
   "execution_count": 1,
   "metadata": {},
   "outputs": [
    {
     "name": "stderr",
     "output_type": "stream",
     "text": [
      "Using TensorFlow backend.\n"
     ]
    }
   ],
   "source": [
    "import keras\n",
    "from keras.models import Sequential\n",
    "from keras.layers import Dense,Flatten\n",
    "from keras.optimizers import SGD\n",
    "import numpy as np\n",
    "import matplotlib.pyplot as p\n"
   ]
  },
  {
   "cell_type": "code",
   "execution_count": 2,
   "metadata": {},
   "outputs": [],
   "source": [
    "#from keras.datasets import imdb\n",
    "#(x,y),(xt,yt)=imdb.load_data()\n"
   ]
  },
  {
   "cell_type": "markdown",
   "metadata": {},
   "source": [
    "# Importing the images from local Directory"
   ]
  },
  {
   "cell_type": "code",
   "execution_count": 5,
   "metadata": {},
   "outputs": [],
   "source": [
    "#importing imagedataGenerator to generate image"
   ]
  },
  {
   "cell_type": "code",
   "execution_count": 3,
   "metadata": {},
   "outputs": [],
   "source": [
    "from keras.preprocessing.image import ImageDataGenerator"
   ]
  },
  {
   "cell_type": "code",
   "execution_count": 7,
   "metadata": {},
   "outputs": [],
   "source": [
    "#Working with Image"
   ]
  },
  {
   "cell_type": "code",
   "execution_count": 4,
   "metadata": {},
   "outputs": [],
   "source": [
    "from keras.preprocessing import image"
   ]
  },
  {
   "cell_type": "code",
   "execution_count": 9,
   "metadata": {},
   "outputs": [],
   "source": [
    "# Generating"
   ]
  },
  {
   "cell_type": "code",
   "execution_count": null,
   "metadata": {},
   "outputs": [],
   "source": []
  },
  {
   "cell_type": "code",
   "execution_count": 5,
   "metadata": {},
   "outputs": [],
   "source": [
    "nabin_train=ImageDataGenerator(rescale=1./255,\n",
    "                               shear_range=0.2,\n",
    "                               zoom_range=0.2,\n",
    "                               horizontal_flip=True)"
   ]
  },
  {
   "cell_type": "code",
   "execution_count": 6,
   "metadata": {},
   "outputs": [],
   "source": [
    "nabin_test=ImageDataGenerator(rescale=1./255)"
   ]
  },
  {
   "cell_type": "code",
   "execution_count": 7,
   "metadata": {},
   "outputs": [
    {
     "name": "stdout",
     "output_type": "stream",
     "text": [
      "Found 472 images belonging to 59 classes.\n"
     ]
    }
   ],
   "source": [
    "# im[porting data from local directory and applying image generator function\n",
    "nabindata=nabin_train.flow_from_directory('Ranjana/train',\n",
    "                                          target_size=(64,64),\n",
    "                                          batch_size=32,\n",
    "                                         class_mode='categorical')"
   ]
  },
  {
   "cell_type": "code",
   "execution_count": 8,
   "metadata": {},
   "outputs": [
    {
     "name": "stdout",
     "output_type": "stream",
     "text": [
      "Found 472 images belonging to 59 classes.\n"
     ]
    }
   ],
   "source": [
    "nabintest=nabin_test.flow_from_directory('Ranjana/test',\n",
    "                                          target_size=(64,64),\n",
    "                                          batch_size=32,\n",
    "                                         class_mode='categorical')"
   ]
  },
  {
   "cell_type": "code",
   "execution_count": 61,
   "metadata": {},
   "outputs": [],
   "source": [
    "#Defining a model\n"
   ]
  },
  {
   "cell_type": "code",
   "execution_count": 15,
   "metadata": {},
   "outputs": [],
   "source": [
    "model=Sequential()\n",
    "#flatten converts (64,64,3)----> 64*64*3 ie 12288\n",
    "model.add(Flatten(input_shape=(64,64,3)))# 3 refers 3 channels i.e. R,G,B\n"
   ]
  },
  {
   "cell_type": "code",
   "execution_count": 16,
   "metadata": {},
   "outputs": [],
   "source": [
    "model.add(Dense(32,activation='relu'))"
   ]
  },
  {
   "cell_type": "code",
   "execution_count": 17,
   "metadata": {},
   "outputs": [],
   "source": [
    "model.add(Dense(59,activation='softmax'))"
   ]
  },
  {
   "cell_type": "code",
   "execution_count": 69,
   "metadata": {},
   "outputs": [],
   "source": [
    "#compiling"
   ]
  },
  {
   "cell_type": "code",
   "execution_count": 18,
   "metadata": {},
   "outputs": [],
   "source": [
    "model.compile(optimizer='rmsprop',loss='categorical_crossentropy',metrics=['accuracy'])"
   ]
  },
  {
   "cell_type": "code",
   "execution_count": 19,
   "metadata": {},
   "outputs": [],
   "source": [
    "#training\n"
   ]
  },
  {
   "cell_type": "code",
   "execution_count": 20,
   "metadata": {},
   "outputs": [
    {
     "name": "stdout",
     "output_type": "stream",
     "text": [
      "Epoch 1/4\n",
      "10/10 [==============================] - 2s 159ms/step - loss: 8.8585 - accuracy: 0.0128 - val_loss: 4.0799 - val_accuracy: 0.0169\n",
      "Epoch 2/4\n",
      "10/10 [==============================] - 1s 104ms/step - loss: 4.0782 - accuracy: 0.0094 - val_loss: 4.0787 - val_accuracy: 0.0169\n",
      "Epoch 3/4\n",
      "10/10 [==============================] - 1s 98ms/step - loss: 4.0784 - accuracy: 0.0096 - val_loss: 4.0772 - val_accuracy: 0.0169\n",
      "Epoch 4/4\n",
      "10/10 [==============================] - 1s 99ms/step - loss: 4.0780 - accuracy: 0.0096 - val_loss: 4.0765 - val_accuracy: 0.0169\n"
     ]
    },
    {
     "data": {
      "text/plain": [
       "<keras.callbacks.callbacks.History at 0x1a1aae2d688>"
      ]
     },
     "execution_count": 20,
     "metadata": {},
     "output_type": "execute_result"
    }
   ],
   "source": [
    "model.fit(nabindata,steps_per_epoch=10,epochs=4,validation_data=nabintest)"
   ]
  },
  {
   "cell_type": "code",
   "execution_count": 20,
   "metadata": {},
   "outputs": [],
   "source": [
    "#testing\n",
    "#Lets load a  test image by using image function of keras preprocessing"
   ]
  },
  {
   "cell_type": "code",
   "execution_count": 21,
   "metadata": {},
   "outputs": [],
   "source": [
    "sagartest=image.load_img('Ranjana/test/क्ष/5.png',target_size=(64,64))"
   ]
  },
  {
   "cell_type": "code",
   "execution_count": 22,
   "metadata": {},
   "outputs": [],
   "source": [
    "# Converting the image into array"
   ]
  },
  {
   "cell_type": "code",
   "execution_count": 23,
   "metadata": {},
   "outputs": [],
   "source": [
    "sagar=image.img_to_array(sagartest)"
   ]
  },
  {
   "cell_type": "code",
   "execution_count": 24,
   "metadata": {},
   "outputs": [],
   "source": [
    "#Exanding and arrangin the array in sutiable axis \n"
   ]
  },
  {
   "cell_type": "code",
   "execution_count": 25,
   "metadata": {},
   "outputs": [],
   "source": [
    "sagar=np.expand_dims(sagar,axis=0)"
   ]
  },
  {
   "cell_type": "markdown",
   "metadata": {},
   "source": [
    "Prediction"
   ]
  },
  {
   "cell_type": "code",
   "execution_count": 26,
   "metadata": {},
   "outputs": [],
   "source": [
    "result=model.predict(sagar) "
   ]
  },
  {
   "cell_type": "code",
   "execution_count": 27,
   "metadata": {},
   "outputs": [
    {
     "data": {
      "text/plain": [
       "array([[0.01689886, 0.01681482, 0.01694221, 0.01691365, 0.01703108,\n",
       "        0.01698998, 0.01698743, 0.01696339, 0.0169476 , 0.01692513,\n",
       "        0.01696014, 0.01691747, 0.0169636 , 0.01677711, 0.01686177,\n",
       "        0.01700817, 0.01695901, 0.0170026 , 0.01702723, 0.01687181,\n",
       "        0.01706065, 0.01687083, 0.01684411, 0.0170041 , 0.0170131 ,\n",
       "        0.01691953, 0.01693804, 0.0168985 , 0.01696115, 0.01695814,\n",
       "        0.01696986, 0.01696119, 0.01695766, 0.01696664, 0.01687861,\n",
       "        0.01686526, 0.01690418, 0.01698061, 0.01681248, 0.01696325,\n",
       "        0.01694549, 0.0168308 , 0.0170301 , 0.016945  , 0.01697392,\n",
       "        0.01694584, 0.01698295, 0.0169952 , 0.0169912 , 0.01692011,\n",
       "        0.0169869 , 0.01711559, 0.01694747, 0.01690467, 0.01699653,\n",
       "        0.01685189, 0.01702661, 0.01703092, 0.01708788]], dtype=float32)"
      ]
     },
     "execution_count": 27,
     "metadata": {},
     "output_type": "execute_result"
    }
   ],
   "source": [
    "result"
   ]
  },
  {
   "cell_type": "code",
   "execution_count": 34,
   "metadata": {},
   "outputs": [
    {
     "data": {
      "text/plain": [
       "{'अ': 0,\n",
       " 'अa': 1,\n",
       " 'अं': 2,\n",
       " 'आ': 3,\n",
       " 'इ': 4,\n",
       " 'ई': 5,\n",
       " 'उ': 6,\n",
       " 'ऊ': 7,\n",
       " 'ए': 8,\n",
       " 'ऐ': 9,\n",
       " 'ओ': 10,\n",
       " 'औ': 11,\n",
       " 'क': 12,\n",
       " 'क्ष': 13,\n",
       " 'ख': 14,\n",
       " 'ग': 15,\n",
       " 'घ': 16,\n",
       " 'ङ': 17,\n",
       " 'च': 18,\n",
       " 'छ': 19,\n",
       " 'ज': 20,\n",
       " 'ज्ञ': 21,\n",
       " 'झ': 22,\n",
       " 'ञ': 23,\n",
       " 'ट': 24,\n",
       " 'ठ': 25,\n",
       " 'ड': 26,\n",
       " 'ढ': 27,\n",
       " 'ण': 28,\n",
       " 'त': 29,\n",
       " 'त्र': 30,\n",
       " 'थ': 31,\n",
       " 'द': 32,\n",
       " 'ध': 33,\n",
       " 'न': 34,\n",
       " 'प': 35,\n",
       " 'फ': 36,\n",
       " 'ब': 37,\n",
       " 'भ': 38,\n",
       " 'म': 39,\n",
       " 'य': 40,\n",
       " 'र': 41,\n",
       " 'ल': 42,\n",
       " 'व': 43,\n",
       " 'श': 44,\n",
       " 'ष': 45,\n",
       " 'स': 46,\n",
       " 'ह': 47,\n",
       " 'ॠ': 48,\n",
       " '०': 49,\n",
       " '१': 50,\n",
       " '२': 51,\n",
       " '३': 52,\n",
       " '४': 53,\n",
       " '५': 54,\n",
       " '६': 55,\n",
       " '७': 56,\n",
       " '८': 57,\n",
       " '९': 58}"
      ]
     },
     "execution_count": 34,
     "metadata": {},
     "output_type": "execute_result"
    }
   ],
   "source": [
    "nabintest.class_indices # prints the indices  as dictionary"
   ]
  },
  {
   "cell_type": "code",
   "execution_count": 42,
   "metadata": {},
   "outputs": [],
   "source": [
    "#analysis for bianr classification\n"
   ]
  },
  {
   "cell_type": "code",
   "execution_count": null,
   "metadata": {},
   "outputs": [],
   "source": []
  },
  {
   "cell_type": "code",
   "execution_count": null,
   "metadata": {},
   "outputs": [],
   "source": []
  },
  {
   "cell_type": "code",
   "execution_count": null,
   "metadata": {},
   "outputs": [],
   "source": []
  },
  {
   "cell_type": "code",
   "execution_count": 43,
   "metadata": {},
   "outputs": [],
   "source": [
    "#Analysis for Categorical Classification"
   ]
  },
  {
   "cell_type": "code",
   "execution_count": 30,
   "metadata": {},
   "outputs": [],
   "source": [
    "\n",
    "\n",
    "\n",
    "\n",
    "n=59#number of classes \n",
    "y=0\n",
    "for x in range(n):\n",
    "    if (y<result[0][x]):\n",
    "            y=result[0][x]\n",
    "            z=x# helps to get the index\n",
    "            "
   ]
  },
  {
   "cell_type": "code",
   "execution_count": 31,
   "metadata": {},
   "outputs": [],
   "source": [
    "label=nabintest.class_indices"
   ]
  },
  {
   "cell_type": "code",
   "execution_count": 32,
   "metadata": {},
   "outputs": [
    {
     "name": "stdout",
     "output_type": "stream",
     "text": [
      "२\n"
     ]
    }
   ],
   "source": [
    "for key in label.keys():\n",
    "    if(label[key]==z):\n",
    "        print(key)"
   ]
  },
  {
   "cell_type": "code",
   "execution_count": 37,
   "metadata": {},
   "outputs": [
    {
     "data": {
      "image/png": "[encoded data removed]",
      "text/plain": [
       "<IPython.core.display.Image object>"
      ]
     },
     "execution_count": 37,
     "metadata": {},
     "output_type": "execute_result"
    }
   ],
   "source": [
    "keras.utils.plot_model(model,'sujan.png',show_shapes=True)"
   ]
  },
  {
   "cell_type": "code",
   "execution_count": null,
   "metadata": {},
   "outputs": [],
   "source": []
  }
 ],
 "metadata": {
  "kernelspec": {
   "display_name": "Python 3",
   "language": "python",
   "name": "python3"
  },
  "language_info": {
   "codemirror_mode": {
    "name": "ipython",
    "version": 3
   },
   "file_extension": ".py",
   "mimetype": "text/x-python",
   "name": "python",
   "nbconvert_exporter": "python",
   "pygments_lexer": "ipython3",
   "version": "3.7.7"
  }
 },
 "nbformat": 4,
 "nbformat_minor": 4
}
